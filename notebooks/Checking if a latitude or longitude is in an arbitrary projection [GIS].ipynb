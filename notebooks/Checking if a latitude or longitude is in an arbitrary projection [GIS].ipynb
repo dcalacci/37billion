{
 "metadata": {
  "name": ""
 },
 "nbformat": 3,
 "nbformat_minor": 0,
 "worksheets": [
  {
   "cells": [
    {
     "cell_type": "markdown",
     "metadata": {},
     "source": [
      "## Setup - Installing Python packages and various libraries\n",
      "\n",
      "During last weekend's [37Billion Datathon](http://www.37billionmilechallenge.org), I learned how to use some basic GIS tools.\n",
      "\n",
      "We were given a shapefile with a series of 250m x 250m grids that covered Massachusetts. \n",
      "\n",
      "One of the things I immediately wanted to do with the grid shapefile data was compute the distance from each grid cell to the nearest public transit station.\n",
      "\n",
      "The dataset we were given included a walksheds file that represented the areas that were walkable around public transit hubs, but I wanted to be able to do a more fine-grained analysis. \n",
      "\n",
      "I knew I could search for a local public transit station given a latitude & longitude, but first, I needed to get the latitude and longitude from the grid cells.\n",
      "\n",
      "After some trial and error, I figured out how to convert latitude & longitude to a projection's coordinates. Here are the steps:"
     ]
    },
    {
     "cell_type": "markdown",
     "metadata": {},
     "source": [
      "### Install GDAL\n",
      "It took me __several hours__ to figure out how to successfully install and link GDAL. This is what worked for me:\n",
      "\n",
      "1. Download & install the __GDAL Framework__ from [here](http://www.kyngchaos.com/software/frameworks)\n",
      "\n",
      "    It'll install to `/Library/frameworks/GDAL.framework/`.\n",
      "       \n",
      "2. Add `/Library/frameworks/GDAL.framework/Programs` to your PATH environment variable. \n",
      "\n",
      "This is important, because other packages will use the gdal-config program to determine where to find the GDAL libraries.\n",
      "\n",
      "3. run `pip install fiona shapely pyproj` to install [Fiona](http://toblerity.org/fiona/manual.html), [Shapely](http://toblerity.org/shapely/manual.html) and [PyProj](https://code.google.com/p/pyproj/).\n",
      "\n",
      "4. Continue with this notebook!"
     ]
    },
    {
     "cell_type": "markdown",
     "metadata": {},
     "source": [
      "## Setup - data files and imports\n",
      " - Import fiona, pyproj, and shapely. \n",
      " - load the grid shapefile"
     ]
    },
    {
     "cell_type": "code",
     "collapsed": false,
     "input": [
      "import os, fiona, pyproj, shapely\n",
      "import fiona.crs\n",
      "\n",
      "# put the relative path to the directory that contains the data here\n",
      "data_dir = \"../data/massvehicledata/\"\n",
      "shapefile = os.path.join(data_dir, 'grid_250m_shell.shp')"
     ],
     "language": "python",
     "metadata": {},
     "outputs": [],
     "prompt_number": 1
    },
    {
     "cell_type": "markdown",
     "metadata": {},
     "source": [
      "### Grab the PROJ4 string for our shapefile\n",
      "As I understand it, a PROJ4 string is a standard way of clearly defining a projection from a coordinate system. You can read more about Proj4 [here.](https://trac.osgeo.org/proj/wiki/GenParms)\n",
      "\n",
      "Here, fiona does all the work and pulls it out of the shapefile:"
     ]
    },
    {
     "cell_type": "code",
     "collapsed": false,
     "input": [
      "grid_proj_string = None\n",
      "with fiona.open(shapefile) as source:\n",
      "    crs = source.crs\n",
      "    grid_proj_string = fiona.crs.to_string(crs)"
     ],
     "language": "python",
     "metadata": {},
     "outputs": [],
     "prompt_number": 2
    },
    {
     "cell_type": "code",
     "collapsed": false,
     "input": [
      "grid_proj_string"
     ],
     "language": "python",
     "metadata": {},
     "outputs": [
      {
       "metadata": {},
       "output_type": "pyout",
       "prompt_number": 3,
       "text": [
        "'+datum=NAD83 +lat_0=41 +lat_1=41.7166666667 +lat_2=42.6833333333 +lon_0=-71.5 +no_defs +proj=lcc +units=m +x_0=200000 +y_0=750000'"
       ]
      }
     ],
     "prompt_number": 3
    },
    {
     "cell_type": "markdown",
     "metadata": {},
     "source": [
      "### Create a pyproj object from `grid_proj_string`, and project a latitude and longitude.\n",
      "\n",
      "Pyproj allows us to do coordinate projections in the exact way that I explained in the beginning of the article - all we have to do is give it the PROJ4 string.\n",
      "\n",
      "`(42.3428482,-71.0938683)` (Northeastern University) in the coordinates used by the grid shapefile is:"
     ]
    },
    {
     "cell_type": "code",
     "collapsed": false,
     "input": [
      "grid_proj = pyproj.Proj(grid_proj_string)"
     ],
     "language": "python",
     "metadata": {},
     "outputs": [],
     "prompt_number": 4
    },
    {
     "cell_type": "code",
     "collapsed": false,
     "input": [
      "grid_proj(42.3428482,-71.0938683)"
     ],
     "language": "python",
     "metadata": {},
     "outputs": [
      {
       "metadata": {},
       "output_type": "pyout",
       "prompt_number": 5,
       "text": [
        "(39363979.08924379, -1495340.013935822)"
       ]
      }
     ],
     "prompt_number": 5
    },
    {
     "cell_type": "markdown",
     "metadata": {},
     "source": [
      "### Getting bounding lat/lon for the first grid cell in the shapefile\n",
      "To make sure this works, let's get the bounding box for the very first grid cell in the shapefile.\n",
      "\n",
      "The bounding box of this grid in lat/lon is:"
     ]
    },
    {
     "cell_type": "code",
     "collapsed": false,
     "input": [
      "import shapely.geometry\n",
      "with fiona.open(shapefile) as source:\n",
      "    \n",
      "    # get the first shape\n",
      "    shapefile_record = source.next()\n",
      "    shape = shapely.geometry.asShape(shapefile_record['geometry'])\n",
      "    minx, miny, maxx, maxy = shape.bounds\n",
      "    \n",
      "    maxx_ll, maxy_ll = grid_proj(maxx, maxy, inverse=True)\n",
      "    minx_ll, miny_ll = grid_proj(minx, miny, inverse=True)\n",
      "    \n",
      "    first_bounding_box_ll = shapely.geometry.box(minx_ll, miny_ll, maxx_ll, maxy_ll)"
     ],
     "language": "python",
     "metadata": {},
     "outputs": [],
     "prompt_number": 6
    },
    {
     "cell_type": "markdown",
     "metadata": {},
     "source": [
      "Bounding box of the first grid cell, in lat/lon:"
     ]
    },
    {
     "cell_type": "code",
     "collapsed": false,
     "input": [
      "first_bounding_box_ll.bounds"
     ],
     "language": "python",
     "metadata": {},
     "outputs": [
      {
       "metadata": {},
       "output_type": "pyout",
       "prompt_number": 7,
       "text": [
        "(-70.79455544033586, 42.75570216940319, -70.79147634111301, 42.75793388033074)"
       ]
      }
     ],
     "prompt_number": 7
    },
    {
     "cell_type": "markdown",
     "metadata": {},
     "source": [
      "Here's where the minimum lat/lon point of this grid is according to google maps:\n",
      "\n",
      "![first grid cell](http://maps.google.com/maps/api/staticmap?size=500x300&sensor=false&zoom=10&markers=42.75570216940319,-70.79455544033586)\n",
      "\n",
      "Seems sort of reasonable - at the very least, the point is on an edge boundary of Massachusetts. I'm not sure if there's a good, reliable way of testing if that's correct, but I'll take it for face value for now."
     ]
    },
    {
     "cell_type": "markdown",
     "metadata": {},
     "source": []
    }
   ],
   "metadata": {}
  }
 ]
}