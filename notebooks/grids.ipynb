{
 "metadata": {
  "name": "",
  "signature": "sha256:74902b29f259fdbd7b0cedd3f030721516ca6d74aaf9ef76032d07d97da74edc"
 },
 "nbformat": 3,
 "nbformat_minor": 0,
 "worksheets": [
  {
   "cells": [
    {
     "cell_type": "markdown",
     "metadata": {},
     "source": [
      "# setup\n",
      "\n",
      "Imports and setting data directories"
     ]
    },
    {
     "cell_type": "code",
     "collapsed": false,
     "input": [
      "import os, random, shapely, fiona\n",
      "import matplotlib.pyplot as plt\n",
      "import pandas as pd\n",
      "import numpy as np\n",
      "import shapely.geometry\n",
      "\n",
      "import utils\n",
      "\n",
      "%load_ext autoreload\n",
      "%autoreload 2\n",
      "\n",
      "\n",
      "data_dir = \"../data/massvehicledata/\"\n",
      "companion_data_dir = '../data/companion/Tabular/'"
     ],
     "language": "python",
     "metadata": {},
     "outputs": [],
     "prompt_number": 1
    },
    {
     "cell_type": "markdown",
     "metadata": {},
     "source": [
      "# Utilities"
     ]
    },
    {
     "cell_type": "code",
     "collapsed": false,
     "input": [
      "def load_large_csv(csv_file, header_file):\n",
      "    \"loads csv_file using chunks/iterator. uses header_file['Field'] as colnames\"\n",
      "    tp = pd.read_csv(csv_file, iterator=True, chunksize=1000)\n",
      "    headers = pd.read_csv(header_file)\n",
      "    df = pd.concat([chunk for chunk in tp], ignore_index=True, names=headers)\n",
      "    df.columns = headers['Field']\n",
      "    return df"
     ],
     "language": "python",
     "metadata": {},
     "outputs": [],
     "prompt_number": 2
    },
    {
     "cell_type": "markdown",
     "metadata": {},
     "source": [
      "# Metadata"
     ]
    },
    {
     "cell_type": "code",
     "collapsed": false,
     "input": [
      "headers_1 = pd.read_csv('../data/massvehicledata/grid_quarters_public_metadata.csv')\n",
      "headers_2 = pd.read_csv('../data/companion/Tabular/grid250m_attributes_meta.csv')\n",
      "headers = headers_1.T.join(headers_2.T, rsuffix=\"_companion\")\n",
      "headers.T"
     ],
     "language": "python",
     "metadata": {},
     "outputs": [
      {
       "html": [
        "<div style=\"max-height:1000px;max-width:1500px;overflow:auto;\">\n",
        "<table border=\"1\" class=\"dataframe\">\n",
        "  <thead>\n",
        "    <tr style=\"text-align: right;\">\n",
        "      <th></th>\n",
        "      <th>Field</th>\n",
        "      <th>Field Name</th>\n",
        "      <th>Description</th>\n",
        "    </tr>\n",
        "  </thead>\n",
        "  <tbody>\n",
        "    <tr>\n",
        "      <th>0</th>\n",
        "      <td>     seq_id</td>\n",
        "      <td>                       Sequence ID</td>\n",
        "      <td>                        Unique ID for this record.</td>\n",
        "    </tr>\n",
        "    <tr>\n",
        "      <th>1</th>\n",
        "      <td>   g250m_id</td>\n",
        "      <td>                           Grid ID</td>\n",
        "      <td>         Unique integer ID for 250 meter grid cell</td>\n",
        "    </tr>\n",
        "    <tr>\n",
        "      <th>2</th>\n",
        "      <td>       hh10</td>\n",
        "      <td>                  Households, 2010</td>\n",
        "      <td> Estimated number of households in the grid cel...</td>\n",
        "    </tr>\n",
        "    <tr>\n",
        "      <th>3</th>\n",
        "      <td>    quarter</td>\n",
        "      <td>                       Sample Date</td>\n",
        "      <td> Date of record. The vehicle-level dataset is s...</td>\n",
        "    </tr>\n",
        "    <tr>\n",
        "      <th>4</th>\n",
        "      <td>    veh_tot</td>\n",
        "      <td>                    Total Vehicles</td>\n",
        "      <td> Total Registered Vehicles (pass_veh) + (comm_veh)</td>\n",
        "    </tr>\n",
        "    <tr>\n",
        "      <th>5</th>\n",
        "      <td>   pass_veh</td>\n",
        "      <td>                Passenger Vehicles</td>\n",
        "      <td> Total Passenger Vehicles (pass_geo + pass_zip_...</td>\n",
        "    </tr>\n",
        "    <tr>\n",
        "      <th>6</th>\n",
        "      <td>  ovrlp_pct</td>\n",
        "      <td>          Mileage Estimate Overlap</td>\n",
        "      <td> The composite mileage estimate overlap for all...</td>\n",
        "    </tr>\n",
        "    <tr>\n",
        "      <th>7</th>\n",
        "      <td>   pass_geo</td>\n",
        "      <td>                Passenger Geocoded</td>\n",
        "      <td> Count of passenger vehicles assigned to this g...</td>\n",
        "    </tr>\n",
        "    <tr>\n",
        "      <th>8</th>\n",
        "      <td>   best_geo</td>\n",
        "      <td>          Passenger Best Estimates</td>\n",
        "      <td> Count of geocoded passenger vehicles that cons...</td>\n",
        "    </tr>\n",
        "    <tr>\n",
        "      <th>9</th>\n",
        "      <td>   pass_zip</td>\n",
        "      <td>            Passenger Zip Assigned</td>\n",
        "      <td> Count of ungeocoded passenger vehicles within ...</td>\n",
        "    </tr>\n",
        "    <tr>\n",
        "      <th>10</th>\n",
        "      <td>  pass_muni</td>\n",
        "      <td>           Passenger Muni Assigned</td>\n",
        "      <td> Count of ungeocoded passenger vehicles within ...</td>\n",
        "    </tr>\n",
        "    <tr>\n",
        "      <th>11</th>\n",
        "      <td>    veh_phh</td>\n",
        "      <td>            Vehicles per Household</td>\n",
        "      <td> Registered passenger vehicle per household. To...</td>\n",
        "    </tr>\n",
        "    <tr>\n",
        "      <th>12</th>\n",
        "      <td> mipdaypass</td>\n",
        "      <td>  Miles per Day Passenger Vehicles</td>\n",
        "      <td> Average daily mileage for passenger vehicles w...</td>\n",
        "    </tr>\n",
        "    <tr>\n",
        "      <th>13</th>\n",
        "      <td> mipday_phh</td>\n",
        "      <td>           Household Miles per Day</td>\n",
        "      <td> Passenger vehicle miles travelled per househol...</td>\n",
        "    </tr>\n",
        "    <tr>\n",
        "      <th>14</th>\n",
        "      <td> mipdaybest</td>\n",
        "      <td>                Miles per Day-Best</td>\n",
        "      <td> Average daily mileage for \"best\" estimate vehi...</td>\n",
        "    </tr>\n",
        "    <tr>\n",
        "      <th>15</th>\n",
        "      <td>     veh_lo</td>\n",
        "      <td>              Low Mileage Vehicles</td>\n",
        "      <td> Geocoded Passenger Vehicles with valid mileage...</td>\n",
        "    </tr>\n",
        "    <tr>\n",
        "      <th>16</th>\n",
        "      <td>  veh_medlo</td>\n",
        "      <td>       Medium-Low Mileage Vehicles</td>\n",
        "      <td> Geocoded Passenger Vehicles with valid mileage...</td>\n",
        "    </tr>\n",
        "    <tr>\n",
        "      <th>17</th>\n",
        "      <td>  veh_medhi</td>\n",
        "      <td>      Medium-High Mileage Vehicles</td>\n",
        "      <td> Geocoded Passenger Vehicles with valid mileage...</td>\n",
        "    </tr>\n",
        "    <tr>\n",
        "      <th>18</th>\n",
        "      <td>     veh_hi</td>\n",
        "      <td>             High Mileage Vehicles</td>\n",
        "      <td> Geocoded Passenger Vehicles with valid mileage...</td>\n",
        "    </tr>\n",
        "    <tr>\n",
        "      <th>19</th>\n",
        "      <td>    veh_vhi</td>\n",
        "      <td>        Very High Mileage Vehicles</td>\n",
        "      <td> Geocoded Passenger Vehicles with valid mileage...</td>\n",
        "    </tr>\n",
        "    <tr>\n",
        "      <th>20</th>\n",
        "      <td>   comm_veh</td>\n",
        "      <td>               Commercial Vehicles</td>\n",
        "      <td> Total Estimated Commercial Vehicles (comm_geo ...</td>\n",
        "    </tr>\n",
        "    <tr>\n",
        "      <th>21</th>\n",
        "      <td>   comm_geo</td>\n",
        "      <td>               Commercial Geocoded</td>\n",
        "      <td> Count of Commercial Vehicles assigned to this ...</td>\n",
        "    </tr>\n",
        "    <tr>\n",
        "      <th>22</th>\n",
        "      <td>   comm_zip</td>\n",
        "      <td>           Commercial Zip Assigned</td>\n",
        "      <td> Count of ungeocoded commercial vehicles within...</td>\n",
        "    </tr>\n",
        "    <tr>\n",
        "      <th>23</th>\n",
        "      <td>  comm_muni</td>\n",
        "      <td>          Commercial Muni Assigned</td>\n",
        "      <td> Count of ungeocoded commercial vehicles within...</td>\n",
        "    </tr>\n",
        "    <tr>\n",
        "      <th>24</th>\n",
        "      <td> mipdaycomm</td>\n",
        "      <td> Miles per Day Commercial Vehicles</td>\n",
        "      <td>          Average Commercial Vehicle Miles per Day</td>\n",
        "    </tr>\n",
        "    <tr>\n",
        "      <th>25</th>\n",
        "      <td>    mpg_eff</td>\n",
        "      <td>        Average Fuel Economy (MPG)</td>\n",
        "      <td> Average fuel economy for passenger vehicles wi...</td>\n",
        "    </tr>\n",
        "    <tr>\n",
        "      <th>26</th>\n",
        "      <td> glpdaypass</td>\n",
        "      <td>           Fuel per Day, Passenger</td>\n",
        "      <td> Average daily fuel (gasoline or diesel) consum...</td>\n",
        "    </tr>\n",
        "    <tr>\n",
        "      <th>27</th>\n",
        "      <td> co2eqv_day</td>\n",
        "      <td>            CO2 per Day, Passenger</td>\n",
        "      <td> Daily greenhouse gas emissions (kilograms of C...</td>\n",
        "    </tr>\n",
        "    <tr>\n",
        "      <th>0_companion</th>\n",
        "      <td>   g250m_id</td>\n",
        "      <td>                           Grid ID</td>\n",
        "      <td>         Unique integer ID for 250 meter grid cell</td>\n",
        "    </tr>\n",
        "    <tr>\n",
        "      <th>1_companion</th>\n",
        "      <td>  municipal</td>\n",
        "      <td>                     Municipality </td>\n",
        "      <td>                                 City or town name</td>\n",
        "    </tr>\n",
        "    <tr>\n",
        "      <th>2_companion</th>\n",
        "      <td>    muni_id</td>\n",
        "      <td>                      Municipal ID</td>\n",
        "      <td> Stnadard Municipal ID assigned by the Massachu...</td>\n",
        "    </tr>\n",
        "    <tr>\n",
        "      <th>3_companion</th>\n",
        "      <td>      pop10</td>\n",
        "      <td>                   2010 Population</td>\n",
        "      <td> Estimated population in the grid cell, 2010. M...</td>\n",
        "    </tr>\n",
        "    <tr>\n",
        "      <th>4_companion</th>\n",
        "      <td> pop5_17_10</td>\n",
        "      <td>            2010 Population 5 - 17</td>\n",
        "      <td> Population Ages 5-17, 2010. Source: Census 201...</td>\n",
        "    </tr>\n",
        "    <tr>\n",
        "      <th>5_companion</th>\n",
        "      <td> pop1864_10</td>\n",
        "      <td>           2010 Population 18 - 64</td>\n",
        "      <td> Population Ages 18-64m, 2010. Source: Census 2...</td>\n",
        "    </tr>\n",
        "    <tr>\n",
        "      <th>6_companion</th>\n",
        "      <td>  pop65p_10</td>\n",
        "      <td>           2010 Population over 64</td>\n",
        "      <td> Population 65 and over, 2010. Source: Census 2...</td>\n",
        "    </tr>\n",
        "    <tr>\n",
        "      <th>7_companion</th>\n",
        "      <td>   hhpop_10</td>\n",
        "      <td>         2010 Household Population</td>\n",
        "      <td> Household Population, 2010. Source: Census 201...</td>\n",
        "    </tr>\n",
        "    <tr>\n",
        "      <th>8_companion</th>\n",
        "      <td>       hh10</td>\n",
        "      <td>                   2010 Households</td>\n",
        "      <td> Households, 2010. Source: Census 2010 allocati...</td>\n",
        "    </tr>\n",
        "    <tr>\n",
        "      <th>9_companion</th>\n",
        "      <td>      fam10</td>\n",
        "      <td>            2010 Family Households</td>\n",
        "      <td> Family households, 2010. Source: Census 2010 a...</td>\n",
        "    </tr>\n",
        "    <tr>\n",
        "      <th>10_companion</th>\n",
        "      <td>     nfam10</td>\n",
        "      <td>         2010 Nonfamily Households</td>\n",
        "      <td> Non-family households, 2010. Source: Census 20...</td>\n",
        "    </tr>\n",
        "    <tr>\n",
        "      <th>11_companion</th>\n",
        "      <td>       hu10</td>\n",
        "      <td>                2010 Housing Units</td>\n",
        "      <td> Housing units, 2010. Source: Census 2010 alloc...</td>\n",
        "    </tr>\n",
        "    <tr>\n",
        "      <th>12_companion</th>\n",
        "      <td>    occhu10</td>\n",
        "      <td>               2010 Occupied Units</td>\n",
        "      <td> Occupied housing units, 2010. Source: Census 2...</td>\n",
        "    </tr>\n",
        "    <tr>\n",
        "      <th>13_companion</th>\n",
        "      <td>    ownhu10</td>\n",
        "      <td>         2010 Owner Occupied Units</td>\n",
        "      <td> Owner occupied housing units, 2010.  Equal to ...</td>\n",
        "    </tr>\n",
        "    <tr>\n",
        "      <th>14_companion</th>\n",
        "      <td>    rnthu10</td>\n",
        "      <td>                 2010 Rental Units</td>\n",
        "      <td> Renter occupied housing units, 2010.  Equal to...</td>\n",
        "    </tr>\n",
        "    <tr>\n",
        "      <th>15_companion</th>\n",
        "      <td>    vachu10</td>\n",
        "      <td>                 2010 Vacant Units</td>\n",
        "      <td> Vacant housing units. Source: Census 2010 allo...</td>\n",
        "    </tr>\n",
        "    <tr>\n",
        "      <th>16_companion</th>\n",
        "      <td>    n11_biz</td>\n",
        "      <td>        Agriculture Establishments</td>\n",
        "      <td> Number of Establishments in NAICS Sector 11: A...</td>\n",
        "    </tr>\n",
        "    <tr>\n",
        "      <th>17_companion</th>\n",
        "      <td>    n11_emp</td>\n",
        "      <td>            Agriculture Employment</td>\n",
        "      <td> Employment in NAICS Sector 11: Agriculture, Fo...</td>\n",
        "    </tr>\n",
        "    <tr>\n",
        "      <th>18_companion</th>\n",
        "      <td>    n21_biz</td>\n",
        "      <td>             Mining Establishments</td>\n",
        "      <td> Number of Establishments in NAICS Sector 21: M...</td>\n",
        "    </tr>\n",
        "    <tr>\n",
        "      <th>19_companion</th>\n",
        "      <td>    n21_emp</td>\n",
        "      <td>                 Mining Employment</td>\n",
        "      <td> Employment in NAICS Sector 21: Mining, Quarryi...</td>\n",
        "    </tr>\n",
        "    <tr>\n",
        "      <th>20_companion</th>\n",
        "      <td>    n22_biz</td>\n",
        "      <td>          Utilities Establishments</td>\n",
        "      <td> Number of Establishments in NAICS Sector 22: U...</td>\n",
        "    </tr>\n",
        "    <tr>\n",
        "      <th>21_companion</th>\n",
        "      <td>    n22_emp</td>\n",
        "      <td>              Utilities Employment</td>\n",
        "      <td> Employment in NAICS Sector 22: Utilities. Sour...</td>\n",
        "    </tr>\n",
        "    <tr>\n",
        "      <th>22_companion</th>\n",
        "      <td>    n23_biz</td>\n",
        "      <td>       Construction Establishments</td>\n",
        "      <td> Number of Establishments in NAICS Sector 23: C...</td>\n",
        "    </tr>\n",
        "    <tr>\n",
        "      <th>23_companion</th>\n",
        "      <td>    n23_emp</td>\n",
        "      <td>           Construction Employment</td>\n",
        "      <td> Employment in NAICS Sector 23: Construction. S...</td>\n",
        "    </tr>\n",
        "    <tr>\n",
        "      <th>24_companion</th>\n",
        "      <td> n31_33_biz</td>\n",
        "      <td>      Manufacturing Establishments</td>\n",
        "      <td> Number of Establishments in NAICS Sector 31-33...</td>\n",
        "    </tr>\n",
        "    <tr>\n",
        "      <th>25_companion</th>\n",
        "      <td> n31_33_emp</td>\n",
        "      <td>          Manufacturing Employment</td>\n",
        "      <td> Employment in NAICS Sector 31-33: Manufacturin...</td>\n",
        "    </tr>\n",
        "    <tr>\n",
        "      <th>26_companion</th>\n",
        "      <td>    n42_biz</td>\n",
        "      <td>          Wholesale Establishments</td>\n",
        "      <td> Number of Establishments in NAICS Sector 42: W...</td>\n",
        "    </tr>\n",
        "    <tr>\n",
        "      <th>27_companion</th>\n",
        "      <td>    n42_emp</td>\n",
        "      <td>              Wholesale Employment</td>\n",
        "      <td> Employment in NAICS Sector 42: Wholesale Trade...</td>\n",
        "    </tr>\n",
        "    <tr>\n",
        "      <th>28</th>\n",
        "      <td> n44_45_biz</td>\n",
        "      <td>             Retail Establishments</td>\n",
        "      <td> Number of Establishments in NAICS Sector 44-45...</td>\n",
        "    </tr>\n",
        "    <tr>\n",
        "      <th>29</th>\n",
        "      <td> n44_45_emp</td>\n",
        "      <td>                 Retail Employment</td>\n",
        "      <td> Employment in NAICS Sector 44-45: Retail Trade...</td>\n",
        "    </tr>\n",
        "    <tr>\n",
        "      <th>30</th>\n",
        "      <td> n48_49_biz</td>\n",
        "      <td>          Transport Establishments</td>\n",
        "      <td> Number of Establishments in NAICS Sector 48-49...</td>\n",
        "    </tr>\n",
        "    <tr>\n",
        "      <th>31</th>\n",
        "      <td> n48_49_emp</td>\n",
        "      <td>              Transport Employment</td>\n",
        "      <td> Employment in NAICS Sector 48-49: Transportati...</td>\n",
        "    </tr>\n",
        "    <tr>\n",
        "      <th></th>\n",
        "      <td>...</td>\n",
        "      <td>...</td>\n",
        "      <td>...</td>\n",
        "    </tr>\n",
        "  </tbody>\n",
        "</table>\n",
        "<p>108 rows \u00d7 3 columns</p>\n",
        "</div>"
       ],
       "metadata": {},
       "output_type": "pyout",
       "prompt_number": 28,
       "text": [
        "                   Field                         Field Name  \\\n",
        "0                 seq_id                        Sequence ID   \n",
        "1               g250m_id                            Grid ID   \n",
        "2                   hh10                   Households, 2010   \n",
        "3                quarter                        Sample Date   \n",
        "4                veh_tot                     Total Vehicles   \n",
        "5               pass_veh                 Passenger Vehicles   \n",
        "6              ovrlp_pct           Mileage Estimate Overlap   \n",
        "7               pass_geo                 Passenger Geocoded   \n",
        "8               best_geo           Passenger Best Estimates   \n",
        "9               pass_zip             Passenger Zip Assigned   \n",
        "10             pass_muni            Passenger Muni Assigned   \n",
        "11               veh_phh             Vehicles per Household   \n",
        "12            mipdaypass   Miles per Day Passenger Vehicles   \n",
        "13            mipday_phh            Household Miles per Day   \n",
        "14            mipdaybest                 Miles per Day-Best   \n",
        "15                veh_lo               Low Mileage Vehicles   \n",
        "16             veh_medlo        Medium-Low Mileage Vehicles   \n",
        "17             veh_medhi       Medium-High Mileage Vehicles   \n",
        "18                veh_hi              High Mileage Vehicles   \n",
        "19               veh_vhi         Very High Mileage Vehicles   \n",
        "20              comm_veh                Commercial Vehicles   \n",
        "21              comm_geo                Commercial Geocoded   \n",
        "22              comm_zip            Commercial Zip Assigned   \n",
        "23             comm_muni           Commercial Muni Assigned   \n",
        "24            mipdaycomm  Miles per Day Commercial Vehicles   \n",
        "25               mpg_eff         Average Fuel Economy (MPG)   \n",
        "26            glpdaypass            Fuel per Day, Passenger   \n",
        "27            co2eqv_day             CO2 per Day, Passenger   \n",
        "0_companion     g250m_id                            Grid ID   \n",
        "1_companion    municipal                      Municipality    \n",
        "2_companion      muni_id                       Municipal ID   \n",
        "3_companion        pop10                    2010 Population   \n",
        "4_companion   pop5_17_10             2010 Population 5 - 17   \n",
        "5_companion   pop1864_10            2010 Population 18 - 64   \n",
        "6_companion    pop65p_10            2010 Population over 64   \n",
        "7_companion     hhpop_10          2010 Household Population   \n",
        "8_companion         hh10                    2010 Households   \n",
        "9_companion        fam10             2010 Family Households   \n",
        "10_companion      nfam10          2010 Nonfamily Households   \n",
        "11_companion        hu10                 2010 Housing Units   \n",
        "12_companion     occhu10                2010 Occupied Units   \n",
        "13_companion     ownhu10          2010 Owner Occupied Units   \n",
        "14_companion     rnthu10                  2010 Rental Units   \n",
        "15_companion     vachu10                  2010 Vacant Units   \n",
        "16_companion     n11_biz         Agriculture Establishments   \n",
        "17_companion     n11_emp             Agriculture Employment   \n",
        "18_companion     n21_biz              Mining Establishments   \n",
        "19_companion     n21_emp                  Mining Employment   \n",
        "20_companion     n22_biz           Utilities Establishments   \n",
        "21_companion     n22_emp               Utilities Employment   \n",
        "22_companion     n23_biz        Construction Establishments   \n",
        "23_companion     n23_emp            Construction Employment   \n",
        "24_companion  n31_33_biz       Manufacturing Establishments   \n",
        "25_companion  n31_33_emp           Manufacturing Employment   \n",
        "26_companion     n42_biz           Wholesale Establishments   \n",
        "27_companion     n42_emp               Wholesale Employment   \n",
        "28            n44_45_biz              Retail Establishments   \n",
        "29            n44_45_emp                  Retail Employment   \n",
        "30            n48_49_biz           Transport Establishments   \n",
        "31            n48_49_emp               Transport Employment   \n",
        "                     ...                                ...   \n",
        "\n",
        "                                                    Description  \n",
        "0                                    Unique ID for this record.  \n",
        "1                     Unique integer ID for 250 meter grid cell  \n",
        "2             Estimated number of households in the grid cel...  \n",
        "3             Date of record. The vehicle-level dataset is s...  \n",
        "4             Total Registered Vehicles (pass_veh) + (comm_veh)  \n",
        "5             Total Passenger Vehicles (pass_geo + pass_zip_...  \n",
        "6             The composite mileage estimate overlap for all...  \n",
        "7             Count of passenger vehicles assigned to this g...  \n",
        "8             Count of geocoded passenger vehicles that cons...  \n",
        "9             Count of ungeocoded passenger vehicles within ...  \n",
        "10            Count of ungeocoded passenger vehicles within ...  \n",
        "11            Registered passenger vehicle per household. To...  \n",
        "12            Average daily mileage for passenger vehicles w...  \n",
        "13            Passenger vehicle miles travelled per househol...  \n",
        "14            Average daily mileage for \"best\" estimate vehi...  \n",
        "15            Geocoded Passenger Vehicles with valid mileage...  \n",
        "16            Geocoded Passenger Vehicles with valid mileage...  \n",
        "17            Geocoded Passenger Vehicles with valid mileage...  \n",
        "18            Geocoded Passenger Vehicles with valid mileage...  \n",
        "19            Geocoded Passenger Vehicles with valid mileage...  \n",
        "20            Total Estimated Commercial Vehicles (comm_geo ...  \n",
        "21            Count of Commercial Vehicles assigned to this ...  \n",
        "22            Count of ungeocoded commercial vehicles within...  \n",
        "23            Count of ungeocoded commercial vehicles within...  \n",
        "24                     Average Commercial Vehicle Miles per Day  \n",
        "25            Average fuel economy for passenger vehicles wi...  \n",
        "26            Average daily fuel (gasoline or diesel) consum...  \n",
        "27            Daily greenhouse gas emissions (kilograms of C...  \n",
        "0_companion           Unique integer ID for 250 meter grid cell  \n",
        "1_companion                                   City or town name  \n",
        "2_companion   Stnadard Municipal ID assigned by the Massachu...  \n",
        "3_companion   Estimated population in the grid cell, 2010. M...  \n",
        "4_companion   Population Ages 5-17, 2010. Source: Census 201...  \n",
        "5_companion   Population Ages 18-64m, 2010. Source: Census 2...  \n",
        "6_companion   Population 65 and over, 2010. Source: Census 2...  \n",
        "7_companion   Household Population, 2010. Source: Census 201...  \n",
        "8_companion   Households, 2010. Source: Census 2010 allocati...  \n",
        "9_companion   Family households, 2010. Source: Census 2010 a...  \n",
        "10_companion  Non-family households, 2010. Source: Census 20...  \n",
        "11_companion  Housing units, 2010. Source: Census 2010 alloc...  \n",
        "12_companion  Occupied housing units, 2010. Source: Census 2...  \n",
        "13_companion  Owner occupied housing units, 2010.  Equal to ...  \n",
        "14_companion  Renter occupied housing units, 2010.  Equal to...  \n",
        "15_companion  Vacant housing units. Source: Census 2010 allo...  \n",
        "16_companion  Number of Establishments in NAICS Sector 11: A...  \n",
        "17_companion  Employment in NAICS Sector 11: Agriculture, Fo...  \n",
        "18_companion  Number of Establishments in NAICS Sector 21: M...  \n",
        "19_companion  Employment in NAICS Sector 21: Mining, Quarryi...  \n",
        "20_companion  Number of Establishments in NAICS Sector 22: U...  \n",
        "21_companion  Employment in NAICS Sector 22: Utilities. Sour...  \n",
        "22_companion  Number of Establishments in NAICS Sector 23: C...  \n",
        "23_companion  Employment in NAICS Sector 23: Construction. S...  \n",
        "24_companion  Number of Establishments in NAICS Sector 31-33...  \n",
        "25_companion  Employment in NAICS Sector 31-33: Manufacturin...  \n",
        "26_companion  Number of Establishments in NAICS Sector 42: W...  \n",
        "27_companion  Employment in NAICS Sector 42: Wholesale Trade...  \n",
        "28            Number of Establishments in NAICS Sector 44-45...  \n",
        "29            Employment in NAICS Sector 44-45: Retail Trade...  \n",
        "30            Number of Establishments in NAICS Sector 48-49...  \n",
        "31            Employment in NAICS Sector 48-49: Transportati...  \n",
        "                                                            ...  \n",
        "\n",
        "[108 rows x 3 columns]"
       ]
      }
     ],
     "prompt_number": 28
    },
    {
     "cell_type": "markdown",
     "metadata": {},
     "source": [
      "# Combining grid data into dataframe"
     ]
    },
    {
     "cell_type": "code",
     "collapsed": true,
     "input": [
      "# original grid data\n",
      "df = load_large_csv(os.path.join(data_dir, 'grid_quarters_public_noheader.csv'), \n",
      "                    os.path.join(data_dir, 'grid_quarters_public_metadata.csv'))"
     ],
     "language": "python",
     "metadata": {},
     "outputs": [
      {
       "ename": "KeyboardInterrupt",
       "evalue": "",
       "output_type": "pyerr",
       "traceback": [
        "\u001b[0;31m---------------------------------------------------------------------------\u001b[0m\n\u001b[0;31mKeyboardInterrupt\u001b[0m                         Traceback (most recent call last)",
        "\u001b[0;32m<ipython-input-29-525ec7302bb4>\u001b[0m in \u001b[0;36m<module>\u001b[0;34m()\u001b[0m\n\u001b[1;32m      1\u001b[0m \u001b[0;31m# original grid data\u001b[0m\u001b[0;34m\u001b[0m\u001b[0;34m\u001b[0m\u001b[0m\n\u001b[1;32m      2\u001b[0m df = load_large_csv(os.path.join(data_dir, 'grid_quarters_public_noheader.csv'), \n\u001b[0;32m----> 3\u001b[0;31m                     os.path.join(data_dir, 'grid_quarters_public_metadata.csv'))\n\u001b[0m",
        "\u001b[0;32m<ipython-input-27-47ea795b459c>\u001b[0m in \u001b[0;36mload_large_csv\u001b[0;34m(csv_file, header_file)\u001b[0m\n\u001b[1;32m      3\u001b[0m     \u001b[0mtp\u001b[0m \u001b[0;34m=\u001b[0m \u001b[0mpd\u001b[0m\u001b[0;34m.\u001b[0m\u001b[0mread_csv\u001b[0m\u001b[0;34m(\u001b[0m\u001b[0mcsv_file\u001b[0m\u001b[0;34m,\u001b[0m \u001b[0miterator\u001b[0m\u001b[0;34m=\u001b[0m\u001b[0mTrue\u001b[0m\u001b[0;34m,\u001b[0m \u001b[0mchunksize\u001b[0m\u001b[0;34m=\u001b[0m\u001b[0;36m1000\u001b[0m\u001b[0;34m)\u001b[0m\u001b[0;34m\u001b[0m\u001b[0m\n\u001b[1;32m      4\u001b[0m     \u001b[0mheaders\u001b[0m \u001b[0;34m=\u001b[0m \u001b[0mpd\u001b[0m\u001b[0;34m.\u001b[0m\u001b[0mread_csv\u001b[0m\u001b[0;34m(\u001b[0m\u001b[0mheader_file\u001b[0m\u001b[0;34m)\u001b[0m\u001b[0;34m\u001b[0m\u001b[0m\n\u001b[0;32m----> 5\u001b[0;31m     \u001b[0mdf\u001b[0m \u001b[0;34m=\u001b[0m \u001b[0mpd\u001b[0m\u001b[0;34m.\u001b[0m\u001b[0mconcat\u001b[0m\u001b[0;34m(\u001b[0m\u001b[0;34m[\u001b[0m\u001b[0mchunk\u001b[0m \u001b[0;32mfor\u001b[0m \u001b[0mchunk\u001b[0m \u001b[0;32min\u001b[0m \u001b[0mtp\u001b[0m\u001b[0;34m]\u001b[0m\u001b[0;34m,\u001b[0m \u001b[0mignore_index\u001b[0m\u001b[0;34m=\u001b[0m\u001b[0mTrue\u001b[0m\u001b[0;34m,\u001b[0m \u001b[0mnames\u001b[0m\u001b[0;34m=\u001b[0m\u001b[0mheaders\u001b[0m\u001b[0;34m)\u001b[0m\u001b[0;34m\u001b[0m\u001b[0m\n\u001b[0m\u001b[1;32m      6\u001b[0m     \u001b[0mdf\u001b[0m\u001b[0;34m.\u001b[0m\u001b[0mcolumns\u001b[0m \u001b[0;34m=\u001b[0m \u001b[0mheaders\u001b[0m\u001b[0;34m[\u001b[0m\u001b[0;34m'Field'\u001b[0m\u001b[0;34m]\u001b[0m\u001b[0;34m\u001b[0m\u001b[0m\n\u001b[1;32m      7\u001b[0m     \u001b[0;32mreturn\u001b[0m \u001b[0mdf\u001b[0m\u001b[0;34m\u001b[0m\u001b[0m\n",
        "\u001b[0;32m/Users/dan/attic/tools/anaconda/lib/python2.7/site-packages/pandas/io/parsers.pyc\u001b[0m in \u001b[0;36m__iter__\u001b[0;34m(self)\u001b[0m\n\u001b[1;32m    600\u001b[0m             \u001b[0;32mif\u001b[0m \u001b[0mself\u001b[0m\u001b[0;34m.\u001b[0m\u001b[0mchunksize\u001b[0m\u001b[0;34m:\u001b[0m\u001b[0;34m\u001b[0m\u001b[0m\n\u001b[1;32m    601\u001b[0m                 \u001b[0;32mwhile\u001b[0m \u001b[0mTrue\u001b[0m\u001b[0;34m:\u001b[0m\u001b[0;34m\u001b[0m\u001b[0m\n\u001b[0;32m--> 602\u001b[0;31m                     \u001b[0;32myield\u001b[0m \u001b[0mself\u001b[0m\u001b[0;34m.\u001b[0m\u001b[0mread\u001b[0m\u001b[0;34m(\u001b[0m\u001b[0mself\u001b[0m\u001b[0;34m.\u001b[0m\u001b[0mchunksize\u001b[0m\u001b[0;34m)\u001b[0m\u001b[0;34m\u001b[0m\u001b[0m\n\u001b[0m\u001b[1;32m    603\u001b[0m             \u001b[0;32melse\u001b[0m\u001b[0;34m:\u001b[0m\u001b[0;34m\u001b[0m\u001b[0m\n\u001b[1;32m    604\u001b[0m                 \u001b[0;32myield\u001b[0m \u001b[0mself\u001b[0m\u001b[0;34m.\u001b[0m\u001b[0mread\u001b[0m\u001b[0;34m(\u001b[0m\u001b[0;34m)\u001b[0m\u001b[0;34m\u001b[0m\u001b[0m\n",
        "\u001b[0;32m/Users/dan/attic/tools/anaconda/lib/python2.7/site-packages/pandas/io/parsers.pyc\u001b[0m in \u001b[0;36mread\u001b[0;34m(self, nrows)\u001b[0m\n\u001b[1;32m    624\u001b[0m                 \u001b[0;32mraise\u001b[0m \u001b[0mValueError\u001b[0m\u001b[0;34m(\u001b[0m\u001b[0;34m'skip_footer not supported for iteration'\u001b[0m\u001b[0;34m)\u001b[0m\u001b[0;34m\u001b[0m\u001b[0m\n\u001b[1;32m    625\u001b[0m \u001b[0;34m\u001b[0m\u001b[0m\n\u001b[0;32m--> 626\u001b[0;31m         \u001b[0mret\u001b[0m \u001b[0;34m=\u001b[0m \u001b[0mself\u001b[0m\u001b[0;34m.\u001b[0m\u001b[0m_engine\u001b[0m\u001b[0;34m.\u001b[0m\u001b[0mread\u001b[0m\u001b[0;34m(\u001b[0m\u001b[0mnrows\u001b[0m\u001b[0;34m)\u001b[0m\u001b[0;34m\u001b[0m\u001b[0m\n\u001b[0m\u001b[1;32m    627\u001b[0m \u001b[0;34m\u001b[0m\u001b[0m\n\u001b[1;32m    628\u001b[0m         \u001b[0;32mif\u001b[0m \u001b[0mself\u001b[0m\u001b[0;34m.\u001b[0m\u001b[0moptions\u001b[0m\u001b[0;34m.\u001b[0m\u001b[0mget\u001b[0m\u001b[0;34m(\u001b[0m\u001b[0;34m'as_recarray'\u001b[0m\u001b[0;34m)\u001b[0m\u001b[0;34m:\u001b[0m\u001b[0;34m\u001b[0m\u001b[0m\n",
        "\u001b[0;32m/Users/dan/attic/tools/anaconda/lib/python2.7/site-packages/pandas/io/parsers.pyc\u001b[0m in \u001b[0;36mread\u001b[0;34m(self, nrows)\u001b[0m\n\u001b[1;32m   1068\u001b[0m \u001b[0;34m\u001b[0m\u001b[0m\n\u001b[1;32m   1069\u001b[0m         \u001b[0;32mtry\u001b[0m\u001b[0;34m:\u001b[0m\u001b[0;34m\u001b[0m\u001b[0m\n\u001b[0;32m-> 1070\u001b[0;31m             \u001b[0mdata\u001b[0m \u001b[0;34m=\u001b[0m \u001b[0mself\u001b[0m\u001b[0;34m.\u001b[0m\u001b[0m_reader\u001b[0m\u001b[0;34m.\u001b[0m\u001b[0mread\u001b[0m\u001b[0;34m(\u001b[0m\u001b[0mnrows\u001b[0m\u001b[0;34m)\u001b[0m\u001b[0;34m\u001b[0m\u001b[0m\n\u001b[0m\u001b[1;32m   1071\u001b[0m         \u001b[0;32mexcept\u001b[0m \u001b[0mStopIteration\u001b[0m\u001b[0;34m:\u001b[0m\u001b[0;34m\u001b[0m\u001b[0m\n\u001b[1;32m   1072\u001b[0m             \u001b[0;32mif\u001b[0m \u001b[0mnrows\u001b[0m \u001b[0;32mis\u001b[0m \u001b[0mNone\u001b[0m\u001b[0;34m:\u001b[0m\u001b[0;34m\u001b[0m\u001b[0m\n",
        "\u001b[0;31mKeyboardInterrupt\u001b[0m: "
       ]
      }
     ],
     "prompt_number": 29
    },
    {
     "cell_type": "code",
     "collapsed": false,
     "input": [
      "# companion grid data (census info)\n",
      "companion_df = load_large_csv(os.path.join(companion_data_dir, 'grid250m_attributes.csv'),\n",
      "                              os.path.join(companion_data_dir, 'grid250m_attributes_meta.csv'))"
     ],
     "language": "python",
     "metadata": {},
     "outputs": []
    },
    {
     "cell_type": "heading",
     "level": 3,
     "metadata": {},
     "source": [
      "remove redundant data and join the dataframes"
     ]
    },
    {
     "cell_type": "code",
     "collapsed": false,
     "input": [
      "# find redundant data\n",
      "redundant = list(set(companion_df.columns) & set(df.columns))\n",
      "\n",
      "# remove it from companion set to join.\n",
      "companion_df = companion_df.drop(redundant, axis=1)\n",
      "\n",
      "combined_df = df.join(companion_df)"
     ],
     "language": "python",
     "metadata": {},
     "outputs": []
    },
    {
     "cell_type": "code",
     "collapsed": false,
     "input": [
      "df.to_csv('grid_data_combined.csv')"
     ],
     "language": "python",
     "metadata": {},
     "outputs": []
    },
    {
     "cell_type": "code",
     "collapsed": false,
     "input": [
      "df = pd.read_csv('grid_data_combined.csv')"
     ],
     "language": "python",
     "metadata": {},
     "outputs": [],
     "prompt_number": 2
    },
    {
     "cell_type": "markdown",
     "metadata": {},
     "source": [
      "# Getting MBTA stations in a dataframe"
     ]
    },
    {
     "cell_type": "markdown",
     "metadata": {},
     "source": [
      "read shapefile"
     ]
    },
    {
     "cell_type": "code",
     "collapsed": false,
     "input": [
      "train_data_dir = \"../data/mass_shapefiles/trains\"\n",
      "trains_shp = os.path.join(train_data_dir, 'TRAINS_NODE.shp')"
     ],
     "language": "python",
     "metadata": {},
     "outputs": [],
     "prompt_number": 19
    },
    {
     "cell_type": "code",
     "collapsed": false,
     "input": [
      "coordinates = []\n",
      "name = []\n",
      "commuter = []\n",
      "amtrak = []\n",
      "\n",
      "with fiona.open(trains_shp) as source:\n",
      "    \n",
      "    # get the first shape\n",
      "    for n, shapefile_record in enumerate(source):\n",
      "        coordinates.append(shapefile_record['geometry']['coordinates'])\n",
      "        name.append(shapefile_record['properties']['STATION'])\n",
      "        commuter.append(shapefile_record['properties']['C_RAILSTAT'])\n",
      "        amtrak.append(shapefile_record['properties']['AMTRAK'])"
     ],
     "language": "python",
     "metadata": {},
     "outputs": [],
     "prompt_number": 20
    },
    {
     "cell_type": "code",
     "collapsed": false,
     "input": [
      "trains_df = pd.DataFrame({'coordinates': coordinates,\n",
      "                   'name': name,\n",
      "                   'commuter': commuter,\n",
      "                   'amtrak': amtrak\n",
      "                   })"
     ],
     "language": "python",
     "metadata": {},
     "outputs": [],
     "prompt_number": 21
    },
    {
     "cell_type": "markdown",
     "metadata": {},
     "source": [
      "clean up mbta data a little - make the 'amtrak' and 'commuter' columns T/F instead of Y/none"
     ]
    },
    {
     "cell_type": "code",
     "collapsed": false,
     "input": [
      "trains_df['amtrak'] = trains_df['amtrak'].apply(lambda s: True if s else False)\n",
      "trains_df['commuter'] = trains_df['commuter'].apply(lambda s: True if s else False)"
     ],
     "language": "python",
     "metadata": {},
     "outputs": [],
     "prompt_number": 22
    },
    {
     "cell_type": "code",
     "collapsed": false,
     "input": [
      "trains_df.head()"
     ],
     "language": "python",
     "metadata": {},
     "outputs": [
      {
       "html": [
        "<div style=\"max-height:1000px;max-width:1500px;overflow:auto;\">\n",
        "<table border=\"1\" class=\"dataframe\">\n",
        "  <thead>\n",
        "    <tr style=\"text-align: right;\">\n",
        "      <th></th>\n",
        "      <th>amtrak</th>\n",
        "      <th>commuter</th>\n",
        "      <th>coordinates</th>\n",
        "      <th>name</th>\n",
        "    </tr>\n",
        "  </thead>\n",
        "  <tbody>\n",
        "    <tr>\n",
        "      <th>0</th>\n",
        "      <td> False</td>\n",
        "      <td> True</td>\n",
        "      <td>     (243618.046907, 911165.75)</td>\n",
        "      <td>  RIVER WORKS</td>\n",
        "    </tr>\n",
        "    <tr>\n",
        "      <th>1</th>\n",
        "      <td> False</td>\n",
        "      <td> True</td>\n",
        "      <td> (201970.515604, 890060.999997)</td>\n",
        "      <td>      ASHLAND</td>\n",
        "    </tr>\n",
        "    <tr>\n",
        "      <th>2</th>\n",
        "      <td> False</td>\n",
        "      <td> True</td>\n",
        "      <td> (198032.796892, 890741.562504)</td>\n",
        "      <td> SOUTHBOROUGH</td>\n",
        "    </tr>\n",
        "    <tr>\n",
        "      <th>3</th>\n",
        "      <td> False</td>\n",
        "      <td> True</td>\n",
        "      <td> (187740.781303, 890988.124991)</td>\n",
        "      <td>  WESTBOROUGH</td>\n",
        "    </tr>\n",
        "    <tr>\n",
        "      <th>4</th>\n",
        "      <td> False</td>\n",
        "      <td> True</td>\n",
        "      <td>    (184764.437511, 888534.625)</td>\n",
        "      <td>      GRAFTON</td>\n",
        "    </tr>\n",
        "  </tbody>\n",
        "</table>\n",
        "<p>5 rows \u00d7 4 columns</p>\n",
        "</div>"
       ],
       "metadata": {},
       "output_type": "pyout",
       "prompt_number": 23,
       "text": [
        "  amtrak commuter                     coordinates          name\n",
        "0  False     True      (243618.046907, 911165.75)   RIVER WORKS\n",
        "1  False     True  (201970.515604, 890060.999997)       ASHLAND\n",
        "2  False     True  (198032.796892, 890741.562504)  SOUTHBOROUGH\n",
        "3  False     True  (187740.781303, 890988.124991)   WESTBOROUGH\n",
        "4  False     True     (184764.437511, 888534.625)       GRAFTON\n",
        "\n",
        "[5 rows x 4 columns]"
       ]
      }
     ],
     "prompt_number": 23
    },
    {
     "cell_type": "code",
     "collapsed": false,
     "input": [
      "trains_df.head()"
     ],
     "language": "python",
     "metadata": {},
     "outputs": [
      {
       "html": [
        "<div style=\"max-height:1000px;max-width:1500px;overflow:auto;\">\n",
        "<table border=\"1\" class=\"dataframe\">\n",
        "  <thead>\n",
        "    <tr style=\"text-align: right;\">\n",
        "      <th></th>\n",
        "      <th>amtrak</th>\n",
        "      <th>commuter</th>\n",
        "      <th>coordinates</th>\n",
        "      <th>name</th>\n",
        "    </tr>\n",
        "  </thead>\n",
        "  <tbody>\n",
        "    <tr>\n",
        "      <th>0</th>\n",
        "      <td> False</td>\n",
        "      <td> True</td>\n",
        "      <td>     (243618.046907, 911165.75)</td>\n",
        "      <td>  RIVER WORKS</td>\n",
        "    </tr>\n",
        "    <tr>\n",
        "      <th>1</th>\n",
        "      <td> False</td>\n",
        "      <td> True</td>\n",
        "      <td> (201970.515604, 890060.999997)</td>\n",
        "      <td>      ASHLAND</td>\n",
        "    </tr>\n",
        "    <tr>\n",
        "      <th>2</th>\n",
        "      <td> False</td>\n",
        "      <td> True</td>\n",
        "      <td> (198032.796892, 890741.562504)</td>\n",
        "      <td> SOUTHBOROUGH</td>\n",
        "    </tr>\n",
        "    <tr>\n",
        "      <th>3</th>\n",
        "      <td> False</td>\n",
        "      <td> True</td>\n",
        "      <td> (187740.781303, 890988.124991)</td>\n",
        "      <td>  WESTBOROUGH</td>\n",
        "    </tr>\n",
        "    <tr>\n",
        "      <th>4</th>\n",
        "      <td> False</td>\n",
        "      <td> True</td>\n",
        "      <td>    (184764.437511, 888534.625)</td>\n",
        "      <td>      GRAFTON</td>\n",
        "    </tr>\n",
        "  </tbody>\n",
        "</table>\n",
        "<p>5 rows \u00d7 4 columns</p>\n",
        "</div>"
       ],
       "metadata": {},
       "output_type": "pyout",
       "prompt_number": 26,
       "text": [
        "  amtrak commuter                     coordinates          name\n",
        "0  False     True      (243618.046907, 911165.75)   RIVER WORKS\n",
        "1  False     True  (201970.515604, 890060.999997)       ASHLAND\n",
        "2  False     True  (198032.796892, 890741.562504)  SOUTHBOROUGH\n",
        "3  False     True  (187740.781303, 890988.124991)   WESTBOROUGH\n",
        "4  False     True     (184764.437511, 888534.625)       GRAFTON\n",
        "\n",
        "[5 rows x 4 columns]"
       ]
      }
     ],
     "prompt_number": 26
    },
    {
     "cell_type": "code",
     "collapsed": false,
     "input": [
      "trains_df.to_pickle('trains_df.p')"
     ],
     "language": "python",
     "metadata": {},
     "outputs": [],
     "prompt_number": 24
    },
    {
     "cell_type": "code",
     "collapsed": false,
     "input": [
      "trains_df = pd.read_pickle('trains_df.p')"
     ],
     "language": "python",
     "metadata": {},
     "outputs": [],
     "prompt_number": 2
    },
    {
     "cell_type": "markdown",
     "metadata": {},
     "source": [
      "## Adding coordinates of grid centers to dataframe"
     ]
    },
    {
     "cell_type": "code",
     "collapsed": false,
     "input": [
      "shapefile = os.path.join(data_dir, 'grid_250m_shell.shp')"
     ],
     "language": "python",
     "metadata": {},
     "outputs": [],
     "prompt_number": 9
    },
    {
     "cell_type": "code",
     "collapsed": false,
     "input": [
      "grid_id = []\n",
      "x = []\n",
      "y = []\n",
      "\n",
      "\n",
      "with fiona.open(shapefile, 'r') as grids:\n",
      "    for n, shapefile_record in enumerate(grids):\n",
      "        if n % 10000 == 0:\n",
      "            print \"processed \", float(n)/len(grids)*100, \"% of elements.\"\n",
      "        grid_id.append(shapefile_record['properties']['g250m_id'])\n",
      "        \n",
      "        shape = shapely.geometry.asShape(shapefile_record['geometry'])\n",
      "#        minx, miny, maxx, maxy = shape.bounds\n",
      "#        center = (minx + (maxx - minx), miny + (maxy - miny))\n",
      "        \n",
      "        rep_point = shape.representative_point()\n",
      "        x.append(rep_point.x)\n",
      "        y.append(rep_point.y)"
     ],
     "language": "python",
     "metadata": {},
     "outputs": [
      {
       "output_type": "stream",
       "stream": "stdout",
       "text": [
        "processed  0.0 % of elements.\n",
        "processed "
       ]
      },
      {
       "output_type": "stream",
       "stream": "stdout",
       "text": [
        " 2.81113659875 % of elements.\n",
        "processed "
       ]
      },
      {
       "output_type": "stream",
       "stream": "stdout",
       "text": [
        " 5.6222731975 % of elements.\n",
        "processed "
       ]
      },
      {
       "output_type": "stream",
       "stream": "stdout",
       "text": [
        " 8.43340979625 % of elements.\n",
        "processed "
       ]
      },
      {
       "output_type": "stream",
       "stream": "stdout",
       "text": [
        " 11.244546395 % of elements.\n",
        "processed "
       ]
      },
      {
       "output_type": "stream",
       "stream": "stdout",
       "text": [
        " 14.0556829937 % of elements.\n",
        "processed "
       ]
      },
      {
       "output_type": "stream",
       "stream": "stdout",
       "text": [
        " 16.8668195925 % of elements.\n",
        "processed "
       ]
      },
      {
       "output_type": "stream",
       "stream": "stdout",
       "text": [
        " 19.6779561912 % of elements.\n",
        "processed "
       ]
      },
      {
       "output_type": "stream",
       "stream": "stdout",
       "text": [
        " 22.48909279 % of elements.\n",
        "processed "
       ]
      },
      {
       "output_type": "stream",
       "stream": "stdout",
       "text": [
        " 25.3002293887 % of elements.\n",
        "processed "
       ]
      },
      {
       "output_type": "stream",
       "stream": "stdout",
       "text": [
        " 28.1113659875 % of elements.\n",
        "processed "
       ]
      },
      {
       "output_type": "stream",
       "stream": "stdout",
       "text": [
        " 30.9225025862 % of elements.\n",
        "processed "
       ]
      },
      {
       "output_type": "stream",
       "stream": "stdout",
       "text": [
        " 33.733639185 % of elements.\n",
        "processed "
       ]
      },
      {
       "output_type": "stream",
       "stream": "stdout",
       "text": [
        " 36.5447757837 % of elements.\n",
        "processed "
       ]
      },
      {
       "output_type": "stream",
       "stream": "stdout",
       "text": [
        " 39.3559123825 % of elements.\n",
        "processed "
       ]
      },
      {
       "output_type": "stream",
       "stream": "stdout",
       "text": [
        " 42.1670489812 % of elements.\n",
        "processed "
       ]
      },
      {
       "output_type": "stream",
       "stream": "stdout",
       "text": [
        " 44.97818558 % of elements.\n",
        "processed "
       ]
      },
      {
       "output_type": "stream",
       "stream": "stdout",
       "text": [
        " 47.7893221787 % of elements.\n",
        "processed "
       ]
      },
      {
       "output_type": "stream",
       "stream": "stdout",
       "text": [
        " 50.6004587775 % of elements.\n",
        "processed "
       ]
      },
      {
       "output_type": "stream",
       "stream": "stdout",
       "text": [
        " 53.4115953762 % of elements.\n",
        "processed "
       ]
      },
      {
       "output_type": "stream",
       "stream": "stdout",
       "text": [
        " 56.222731975 % of elements.\n",
        "processed "
       ]
      },
      {
       "output_type": "stream",
       "stream": "stdout",
       "text": [
        " 59.0338685737 % of elements.\n",
        "processed "
       ]
      },
      {
       "output_type": "stream",
       "stream": "stdout",
       "text": [
        " 61.8450051725 % of elements.\n",
        "processed "
       ]
      },
      {
       "output_type": "stream",
       "stream": "stdout",
       "text": [
        " 64.6561417712 % of elements.\n",
        "processed "
       ]
      },
      {
       "output_type": "stream",
       "stream": "stdout",
       "text": [
        " 67.46727837 % of elements.\n",
        "processed "
       ]
      },
      {
       "output_type": "stream",
       "stream": "stdout",
       "text": [
        " 70.2784149687 % of elements.\n",
        "processed "
       ]
      },
      {
       "output_type": "stream",
       "stream": "stdout",
       "text": [
        " 73.0895515675 % of elements.\n",
        "processed "
       ]
      },
      {
       "output_type": "stream",
       "stream": "stdout",
       "text": [
        " 75.9006881662 % of elements.\n",
        "processed "
       ]
      },
      {
       "output_type": "stream",
       "stream": "stdout",
       "text": [
        " 78.711824765 % of elements.\n",
        "processed "
       ]
      },
      {
       "output_type": "stream",
       "stream": "stdout",
       "text": [
        " 81.5229613637 % of elements.\n",
        "processed "
       ]
      },
      {
       "output_type": "stream",
       "stream": "stdout",
       "text": [
        " 84.3340979625 % of elements.\n",
        "processed "
       ]
      },
      {
       "output_type": "stream",
       "stream": "stdout",
       "text": [
        " 87.1452345612 % of elements.\n",
        "processed "
       ]
      },
      {
       "output_type": "stream",
       "stream": "stdout",
       "text": [
        " 89.95637116 % of elements.\n",
        "processed "
       ]
      },
      {
       "output_type": "stream",
       "stream": "stdout",
       "text": [
        " 92.7675077587 % of elements.\n",
        "processed "
       ]
      },
      {
       "output_type": "stream",
       "stream": "stdout",
       "text": [
        " 95.5786443575 % of elements.\n",
        "processed "
       ]
      },
      {
       "output_type": "stream",
       "stream": "stdout",
       "text": [
        " 98.3897809562 % of elements.\n"
       ]
      }
     ],
     "prompt_number": 10
    },
    {
     "cell_type": "code",
     "collapsed": false,
     "input": [
      "grid_loc_df = pd.DataFrame({'g250m_id': grid_id,\n",
      "                            'x': x,\n",
      "                            'y': y,})"
     ],
     "language": "python",
     "metadata": {},
     "outputs": [],
     "prompt_number": 11
    },
    {
     "cell_type": "code",
     "collapsed": false,
     "input": [
      "grid_loc_df.to_csv('grid_loc_df.csv')"
     ],
     "language": "python",
     "metadata": {},
     "outputs": []
    },
    {
     "cell_type": "code",
     "collapsed": false,
     "input": [
      "grid_loc_df = pd.read_csv('grid_loc_df_with_dist.csv').drop('Unnamed: 0', 1).drop('Unnamed: 0.1', 1)"
     ],
     "language": "python",
     "metadata": {},
     "outputs": [],
     "prompt_number": 8
    },
    {
     "cell_type": "code",
     "collapsed": false,
     "input": [
      "gird_loc_df.set"
     ],
     "language": "python",
     "metadata": {},
     "outputs": []
    },
    {
     "cell_type": "code",
     "collapsed": false,
     "input": [
      "grid_loc_df.head()"
     ],
     "language": "python",
     "metadata": {},
     "outputs": [
      {
       "html": [
        "<div style=\"max-height:1000px;max-width:1500px;overflow:auto;\">\n",
        "<table border=\"1\" class=\"dataframe\">\n",
        "  <thead>\n",
        "    <tr style=\"text-align: right;\">\n",
        "      <th></th>\n",
        "      <th>g250m_id</th>\n",
        "      <th>x</th>\n",
        "      <th>y</th>\n",
        "      <th>closest_distance</th>\n",
        "      <th>nearest_station</th>\n",
        "    </tr>\n",
        "  </thead>\n",
        "  <tbody>\n",
        "    <tr>\n",
        "      <th>0</th>\n",
        "      <td> 5732</td>\n",
        "      <td> 257875.00000</td>\n",
        "      <td> 945374.99995</td>\n",
        "      <td>   6424.486646</td>\n",
        "      <td> 358</td>\n",
        "    </tr>\n",
        "    <tr>\n",
        "      <th>1</th>\n",
        "      <td> 5903</td>\n",
        "      <td> 257624.99995</td>\n",
        "      <td> 945125.00000</td>\n",
        "      <td>   6078.042351</td>\n",
        "      <td> 358</td>\n",
        "    </tr>\n",
        "    <tr>\n",
        "      <th>2</th>\n",
        "      <td> 5904</td>\n",
        "      <td> 257875.00000</td>\n",
        "      <td> 945125.00000</td>\n",
        "      <td>   6288.809329</td>\n",
        "      <td> 358</td>\n",
        "    </tr>\n",
        "    <tr>\n",
        "      <th>3</th>\n",
        "      <td> 5905</td>\n",
        "      <td>  55125.00000</td>\n",
        "      <td> 944874.99995</td>\n",
        "      <td> 122112.531587</td>\n",
        "      <td> 205</td>\n",
        "    </tr>\n",
        "    <tr>\n",
        "      <th>4</th>\n",
        "      <td> 5906</td>\n",
        "      <td>  55374.99995</td>\n",
        "      <td> 944874.99995</td>\n",
        "      <td> 121865.648614</td>\n",
        "      <td> 205</td>\n",
        "    </tr>\n",
        "  </tbody>\n",
        "</table>\n",
        "<p>5 rows \u00d7 5 columns</p>\n",
        "</div>"
       ],
       "metadata": {},
       "output_type": "pyout",
       "prompt_number": 9,
       "text": [
        "   g250m_id             x             y  closest_distance  nearest_station\n",
        "0      5732  257875.00000  945374.99995       6424.486646              358\n",
        "1      5903  257624.99995  945125.00000       6078.042351              358\n",
        "2      5904  257875.00000  945125.00000       6288.809329              358\n",
        "3      5905   55125.00000  944874.99995     122112.531587              205\n",
        "4      5906   55374.99995  944874.99995     121865.648614              205\n",
        "\n",
        "[5 rows x 5 columns]"
       ]
      }
     ],
     "prompt_number": 9
    },
    {
     "cell_type": "code",
     "collapsed": false,
     "input": [
      "grid_loc_df.to_pickle('grid_loc_df_with_dist.p')"
     ],
     "language": "python",
     "metadata": {},
     "outputs": [],
     "prompt_number": 10
    },
    {
     "cell_type": "code",
     "collapsed": false,
     "input": [
      "print utils.get_nearest_station((257624.99995, 945125.00000), trains_df)\n",
      "print utils.get_nearest_station((255374.99995, 944874.99995), trains_df)"
     ],
     "language": "python",
     "metadata": {},
     "outputs": [
      {
       "output_type": "stream",
       "stream": "stdout",
       "text": [
        "(358, 6078.0423511273966)\n",
        "(358, 4184.3734855356506)\n"
       ]
      }
     ],
     "prompt_number": 27
    },
    {
     "cell_type": "markdown",
     "metadata": {},
     "source": [
      "## Adding train distance to dataframe\n",
      "1. pull data from csv file"
     ]
    },
    {
     "cell_type": "code",
     "collapsed": false,
     "input": [
      "grid_loc_df.to_pickle('grid_loc_df.p')"
     ],
     "language": "python",
     "metadata": {},
     "outputs": [],
     "prompt_number": 6
    },
    {
     "cell_type": "code",
     "collapsed": false,
     "input": [
      "trains_df = pd.read_csv('mass_trains.csv')"
     ],
     "language": "python",
     "metadata": {},
     "outputs": [],
     "prompt_number": 9
    },
    {
     "cell_type": "markdown",
     "metadata": {},
     "source": [
      "2. Calculate distance to nearest train for each grid cell"
     ]
    },
    {
     "cell_type": "code",
     "collapsed": false,
     "input": [
      "nearest_dist = []\n",
      "nearest_station = []\n",
      "\n",
      "nearest_dist = df[']\n",
      "\n",
      "\n",
      "\n",
      "with fiona.open(shapefile, 'r') as grids:\n",
      "    new_driver = grids.driver\n",
      "    new_crs = grids.crs    \n",
      "    \n",
      "    schema = grids.schema.copy()\n",
      "    schema['properties']['nearest_station'] = 'int'\n",
      "    schema['properties']['nearest_dist'] = 'float'\n",
      "#    schema['properties']['normalized_nearest_dist'] = 'float'\n",
      "\n",
      "    with fiona.collection('join_data_grids.shp', 'w', 'ESRI Shapefile', schema) as output:\n",
      "        for shapefile_record in grids:\n",
      "            shape = shapely.geometry.asShape(shapefile_record['geometry'])\n",
      "            minx, miny, maxx, maxy = shape.bounds\n",
      "            center = (maxx - minx, maxy - miny)\n",
      "#            shapefile_record['properties']['center'] = center\n",
      "            nearest = get_nearest_station(center, df)\n",
      "            shapefile_record['properties']['nearest_station'] = nearest[0]\n",
      "            shapefile_record['properties']['nearest_dist'] = nearest[1]\n",
      "            output.write(shapefile_record)\n",
      "            grid_dists.append(nearest[1])"
     ],
     "language": "python",
     "metadata": {},
     "outputs": []
    },
    {
     "cell_type": "markdown",
     "metadata": {},
     "source": [
      "#### Sample the data uniformly"
     ]
    },
    {
     "cell_type": "code",
     "collapsed": false,
     "input": [
      "l = len(combined_df)\n",
      "sample_df = combined_df.ix[random.sample(combined_df.index, l/100)]"
     ],
     "language": "python",
     "metadata": {},
     "outputs": [],
     "prompt_number": 91
    },
    {
     "cell_type": "markdown",
     "metadata": {},
     "source": [
      "Cutoff for property value and miles per day per passenger:"
     ]
    },
    {
     "cell_type": "code",
     "collapsed": false,
     "input": [
      "sample_df = sample_df[sample_df['pttlasval'] < 100000000]"
     ],
     "language": "python",
     "metadata": {},
     "outputs": [],
     "prompt_number": 47
    },
    {
     "cell_type": "code",
     "collapsed": false,
     "input": [
      "len(sample_df)"
     ],
     "language": "python",
     "metadata": {},
     "outputs": [
      {
       "metadata": {},
       "output_type": "pyout",
       "prompt_number": 96,
       "text": [
        "56916"
       ]
      }
     ],
     "prompt_number": 96
    },
    {
     "cell_type": "heading",
     "level": 3,
     "metadata": {},
     "source": [
      "distribution of miles & property value"
     ]
    },
    {
     "cell_type": "code",
     "collapsed": false,
     "input": [
      "plt.scatter(sample_df[(sample_df['pop10'] > 10) & (sample_df['pass_veh'] > 0)]['pop10'],\n",
      "            sample_df[(sample_df['pass_veh'] > 0) & (sample_df['pop10'] > 10)]['pass_veh'],\n",
      "            alpha=.25,\n",
      "            #s=np.log(sample_df['mpg_eff'])*50\n",
      "            )\n",
      "plt.xlabel('population of grid cell')\n",
      "plt.ylabel('total passenger vehicles')\n",
      "plt.ylim((-10,250))\n",
      "#plt.yscale('log')\n",
      "plt.xscale('log')\n",
      "plt.xticks(fontsize=12)\n",
      "plt.yticks(fontsize=12)\n",
      "#figsize(10,5)\n",
      "plt.show()"
     ],
     "language": "python",
     "metadata": {},
     "outputs": [
      {
       "metadata": {},
       "output_type": "display_data",
       "png": "[encoded data removed]",
       "text": [
        "<matplotlib.figure.Figure at 0x10ce4edd0>"
       ]
      }
     ],
     "prompt_number": 121
    },
    {
     "cell_type": "code",
     "collapsed": false,
     "input": [
      "plt.scatter(sample_df[(sample_df['sidewlksqm'] > 10) & (sample_df['veh_tot'] > 0)]['sidewlksqm'],\n",
      "            sample_df[(sample_df['veh_tot'] > 0) & (sample_df['sidewlksqm'] > 10)]['veh_tot'],\n",
      "            alpha=.25,\n",
      "            s=sample_df['hh10']\n",
      "            )\n",
      "plt.xlabel('square meters of sidewalk', fontsize=18)\n",
      "plt.ylabel('total registered vehicles', fontsize=18)\n",
      "plt.ylim((-10,150))\n",
      "plt.xticks(fontsize=12)\n",
      "plt.yticks(fontsize=12)\n",
      "#figsize(10,5)\n",
      "plt.show()"
     ],
     "language": "python",
     "metadata": {},
     "outputs": [
      {
       "metadata": {},
       "output_type": "display_data",
       "png": "[encoded data removed]",
       "text": [
        "<matplotlib.figure.Figure at 0x10df37b90>"
       ]
      }
     ],
     "prompt_number": 137
    },
    {
     "cell_type": "code",
     "collapsed": false,
     "input": [
      "plt.scatter(sample_df[(sample_df['sidewlksqm'] > 10) & (sample_df['mipday_phh'] > 0)]['sidewlksqm'],\n",
      "            sample_df[(sample_df['mipday_phh'] > 0) & (sample_df['sidewlksqm'] > 10)]['mipday_phh'],\n",
      "            alpha=.25,\n",
      "            s=sample_df['hh10']\n",
      "            )\n",
      "plt.xlabel('square meters of sidewalk', fontsize=18)\n",
      "plt.ylabel('household miles per day', fontsize=18)\n",
      "#plt.yscale('log')\n",
      "plt.ylim((10,150))\n",
      "plt.xticks(fontsize=12)\n",
      "plt.yticks(fontsize=12)\n",
      "#figsize(10,5)\n",
      "plt.show()"
     ],
     "language": "python",
     "metadata": {},
     "outputs": [
      {
       "metadata": {},
       "output_type": "display_data",
       "png": "[encoded data removed]",
       "text": [
        "<matplotlib.figure.Figure at 0x111d5cf90>"
       ]
      }
     ],
     "prompt_number": 148
    }
   ],
   "metadata": {}
  }
 ]
}