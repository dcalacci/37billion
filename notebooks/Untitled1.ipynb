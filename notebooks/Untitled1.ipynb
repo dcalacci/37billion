{
 "metadata": {
  "name": ""
 },
 "nbformat": 3,
 "nbformat_minor": 0,
 "worksheets": [
  {
   "cells": [
    {
     "cell_type": "markdown",
     "metadata": {},
     "source": [
      "## Setup"
     ]
    },
    {
     "cell_type": "code",
     "collapsed": false,
     "input": [
      "import pandas as pd\n",
      "import numpy as np"
     ],
     "language": "python",
     "metadata": {},
     "outputs": [],
     "prompt_number": 2
    },
    {
     "cell_type": "markdown",
     "metadata": {},
     "source": [
      "# Questions"
     ]
    },
    {
     "cell_type": "code",
     "collapsed": false,
     "input": [
      "df = pd.read_csv('ZIP_code_data.csv')"
     ],
     "language": "python",
     "metadata": {},
     "outputs": [],
     "prompt_number": 3
    },
    {
     "cell_type": "code",
     "collapsed": false,
     "input": [
      "df.head()"
     ],
     "language": "python",
     "metadata": {},
     "outputs": [
      {
       "html": [
        "<div style=\"max-height:1000px;max-width:1500px;overflow:auto;\">\n",
        "<table border=\"1\" class=\"dataframe\">\n",
        "  <thead>\n",
        "    <tr style=\"text-align: right;\">\n",
        "      <th></th>\n",
        "      <th>ZIP</th>\n",
        "      <th>Population_gt18_c</th>\n",
        "      <th>Laborer_c</th>\n",
        "      <th>Unemployment_c</th>\n",
        "      <th>Median_male_income</th>\n",
        "      <th>Median_female_income</th>\n",
        "      <th>Civilian_pop</th>\n",
        "      <th>Uninsured_c</th>\n",
        "      <th>Females_c</th>\n",
        "      <th>Commuters_c</th>\n",
        "      <th>Drive_alone_c</th>\n",
        "      <th>Carpooled_c</th>\n",
        "      <th>Pub_trans_c</th>\n",
        "      <th>Walked_c</th>\n",
        "      <th>Home_c</th>\n",
        "      <th>Travel_time</th>\n",
        "      <th>Median_income</th>\n",
        "      <th>Laborer_p</th>\n",
        "      <th>Unemployment_p</th>\n",
        "      <th>Uninsured_p</th>\n",
        "      <th></th>\n",
        "    </tr>\n",
        "  </thead>\n",
        "  <tbody>\n",
        "    <tr>\n",
        "      <th>0</th>\n",
        "      <td> 1001</td>\n",
        "      <td> 14235</td>\n",
        "      <td>  9736</td>\n",
        "      <td>  635</td>\n",
        "      <td> 54204</td>\n",
        "      <td> 43884</td>\n",
        "      <td> 16818</td>\n",
        "      <td> 685</td>\n",
        "      <td>  7694</td>\n",
        "      <td>  8949</td>\n",
        "      <td> 7897</td>\n",
        "      <td>  608</td>\n",
        "      <td>    0</td>\n",
        "      <td>  226</td>\n",
        "      <td>  142</td>\n",
        "      <td> 19.6</td>\n",
        "      <td>  63682</td>\n",
        "      <td> 68.4</td>\n",
        "      <td> 4.5</td>\n",
        "      <td> 4.1</td>\n",
        "      <td>...</td>\n",
        "    </tr>\n",
        "    <tr>\n",
        "      <th>1</th>\n",
        "      <td> 1002</td>\n",
        "      <td> 25455</td>\n",
        "      <td> 16062</td>\n",
        "      <td> 1332</td>\n",
        "      <td> 65333</td>\n",
        "      <td> 47111</td>\n",
        "      <td> 28581</td>\n",
        "      <td> 912</td>\n",
        "      <td> 13011</td>\n",
        "      <td> 14488</td>\n",
        "      <td> 8276</td>\n",
        "      <td> 1163</td>\n",
        "      <td> 1427</td>\n",
        "      <td> 1781</td>\n",
        "      <td> 1597</td>\n",
        "      <td> 20.7</td>\n",
        "      <td>  56175</td>\n",
        "      <td> 63.1</td>\n",
        "      <td> 5.2</td>\n",
        "      <td> 3.2</td>\n",
        "      <td>...</td>\n",
        "    </tr>\n",
        "    <tr>\n",
        "      <th>2</th>\n",
        "      <td> 1003</td>\n",
        "      <td> 11242</td>\n",
        "      <td>  4861</td>\n",
        "      <td> 1023</td>\n",
        "      <td> 48274</td>\n",
        "      <td> 27868</td>\n",
        "      <td> 11286</td>\n",
        "      <td> 139</td>\n",
        "      <td>  6202</td>\n",
        "      <td>  3838</td>\n",
        "      <td>  656</td>\n",
        "      <td>  227</td>\n",
        "      <td>   99</td>\n",
        "      <td> 1761</td>\n",
        "      <td> 1045</td>\n",
        "      <td> 15.0</td>\n",
        "      <td> 165865</td>\n",
        "      <td> 43.2</td>\n",
        "      <td> 9.1</td>\n",
        "      <td> 1.2</td>\n",
        "      <td>...</td>\n",
        "    </tr>\n",
        "    <tr>\n",
        "      <th>3</th>\n",
        "      <td> 1005</td>\n",
        "      <td>  4077</td>\n",
        "      <td>  3016</td>\n",
        "      <td>  289</td>\n",
        "      <td> 63456</td>\n",
        "      <td> 47656</td>\n",
        "      <td>  5069</td>\n",
        "      <td>  28</td>\n",
        "      <td>  2031</td>\n",
        "      <td>  2618</td>\n",
        "      <td> 2033</td>\n",
        "      <td>  319</td>\n",
        "      <td>    0</td>\n",
        "      <td>   30</td>\n",
        "      <td>  230</td>\n",
        "      <td> 37.4</td>\n",
        "      <td>  75856</td>\n",
        "      <td> 74.0</td>\n",
        "      <td> 7.1</td>\n",
        "      <td> 0.6</td>\n",
        "      <td>...</td>\n",
        "    </tr>\n",
        "    <tr>\n",
        "      <th>4</th>\n",
        "      <td> 1007</td>\n",
        "      <td> 11479</td>\n",
        "      <td>  8689</td>\n",
        "      <td>  569</td>\n",
        "      <td> 62309</td>\n",
        "      <td> 45639</td>\n",
        "      <td> 14593</td>\n",
        "      <td> 218</td>\n",
        "      <td>  5701</td>\n",
        "      <td>  7927</td>\n",
        "      <td> 6580</td>\n",
        "      <td>  663</td>\n",
        "      <td>   56</td>\n",
        "      <td>   85</td>\n",
        "      <td>  480</td>\n",
        "      <td> 27.9</td>\n",
        "      <td>  77617</td>\n",
        "      <td> 75.7</td>\n",
        "      <td> 5.0</td>\n",
        "      <td> 1.5</td>\n",
        "      <td>...</td>\n",
        "    </tr>\n",
        "  </tbody>\n",
        "</table>\n",
        "<p>5 rows \u00d7 46 columns</p>\n",
        "</div>"
       ],
       "metadata": {},
       "output_type": "pyout",
       "prompt_number": 7,
       "text": [
        "    ZIP  Population_gt18_c  Laborer_c  Unemployment_c  Median_male_income  \\\n",
        "0  1001              14235       9736             635               54204   \n",
        "1  1002              25455      16062            1332               65333   \n",
        "2  1003              11242       4861            1023               48274   \n",
        "3  1005               4077       3016             289               63456   \n",
        "4  1007              11479       8689             569               62309   \n",
        "\n",
        "   Median_female_income  Civilian_pop  Uninsured_c  Females_c  Commuters_c  \\\n",
        "0                 43884         16818          685       7694         8949   \n",
        "1                 47111         28581          912      13011        14488   \n",
        "2                 27868         11286          139       6202         3838   \n",
        "3                 47656          5069           28       2031         2618   \n",
        "4                 45639         14593          218       5701         7927   \n",
        "\n",
        "   Drive_alone_c  Carpooled_c  Pub_trans_c  Walked_c  Home_c  Travel_time  \\\n",
        "0           7897          608            0       226     142         19.6   \n",
        "1           8276         1163         1427      1781    1597         20.7   \n",
        "2            656          227           99      1761    1045         15.0   \n",
        "3           2033          319            0        30     230         37.4   \n",
        "4           6580          663           56        85     480         27.9   \n",
        "\n",
        "   Median_income  Laborer_p  Unemployment_p  Uninsured_p      \n",
        "0          63682       68.4             4.5          4.1 ...  \n",
        "1          56175       63.1             5.2          3.2 ...  \n",
        "2         165865       43.2             9.1          1.2 ...  \n",
        "3          75856       74.0             7.1          0.6 ...  \n",
        "4          77617       75.7             5.0          1.5 ...  \n",
        "\n",
        "[5 rows x 46 columns]"
       ]
      }
     ],
     "prompt_number": 7
    },
    {
     "cell_type": "code",
     "collapsed": false,
     "input": [
      "len(df)"
     ],
     "language": "python",
     "metadata": {},
     "outputs": [
      {
       "metadata": {},
       "output_type": "pyout",
       "prompt_number": 8,
       "text": [
        "538"
       ]
      }
     ],
     "prompt_number": 8
    },
    {
     "cell_type": "code",
     "collapsed": false,
     "input": [
      "max(df['mpg_mean'])"
     ],
     "language": "python",
     "metadata": {},
     "outputs": [
      {
       "metadata": {},
       "output_type": "pyout",
       "prompt_number": 9,
       "text": [
        "23.342682926799998"
       ]
      }
     ],
     "prompt_number": 9
    },
    {
     "cell_type": "code",
     "collapsed": false,
     "input": [
      "figsize(10,5)\n",
      "plt.scatter(df[(df['mpg_mean'] > 0) & (df['msrp_mean'] > 0)]['msrp_mean'],\n",
      "            df[(df['mpg_mean'] > 0) & (df['msrp_mean'] > 0)]['mpg_mean'],\n",
      "            alpha=.25,\n",
      "            s=np.log(df['vehicles'])*50)\n",
      "plt.xlabel('MSRP ($)',fontsize=18)\n",
      "plt.ylabel('MPG',fontsize=18)\n",
      "plt.xticks(fontsize=12)\n",
      "plt.yticks(fontsize=12)\n",
      "plt.ylim((0,50))\n",
      "plt.xscale('log')"
     ],
     "language": "python",
     "metadata": {},
     "outputs": [
      {
       "metadata": {},
       "output_type": "display_data",
       "png": "[encoded data removed]",
       "text": [
        "<matplotlib.figure.Figure at 0x1074bc050>"
       ]
      }
     ],
     "prompt_number": 6
    },
    {
     "cell_type": "code",
     "collapsed": false,
     "input": [],
     "language": "python",
     "metadata": {},
     "outputs": []
    }
   ],
   "metadata": {}
  }
 ]
}